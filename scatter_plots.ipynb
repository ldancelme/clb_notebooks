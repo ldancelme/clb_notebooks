{
 "cells": [
  {
   "cell_type": "markdown",
   "metadata": {},
   "source": [
    "# Description du Notebook\n",
    "-------------\n",
    "Visualisation des données : Scatter plots"
   ]
  },
  {
   "cell_type": "markdown",
   "metadata": {},
   "source": [
    "## Sommaire\n",
    "-------------\n",
    "- [Import des données et des packages](#import)\n",
    "- [Intervalles Âge](#interval-age)\n",
    "- [Scatter plots](#scatter)\n",
    "- [Interprétation des résultats](#scatter-interpret)\n",
    "\n"
   ]
  },
  {
   "cell_type": "markdown",
   "metadata": {},
   "source": [
    "<a id=\"import\"></a>"
   ]
  },
  {
   "cell_type": "markdown",
   "metadata": {},
   "source": [
    "## Import des données et des packages\n",
    "--------------"
   ]
  },
  {
   "cell_type": "code",
   "execution_count": null,
   "metadata": {},
   "outputs": [],
   "source": [
    "import pandas as pd\n",
    "import numpy as np\n",
    "import timeit\n",
    "import matplotlib.pyplot as plt\n",
    "from matplotlib.offsetbox import AnchoredText\n",
    "\n",
    "start = timeit.default_timer()\n",
    "\n",
    "# Load data\n",
    "# LOX-PC : \n",
    "data = pd.read_csv('mean_std.csv', dtype={'Taille' : float, 'Appli_origine' : str, 'mean' : float, 'std' : float, 'sem' : float}, na_values = '')\n"
   ]
  },
  {
   "cell_type": "markdown",
   "metadata": {},
   "source": [
    "<a id=\"interval-age\"></a>"
   ]
  },
  {
   "cell_type": "markdown",
   "metadata": {},
   "source": [
    "## Intervalles Âge\n",
    "---------------"
   ]
  },
  {
   "cell_type": "code",
   "execution_count": null,
   "metadata": {},
   "outputs": [],
   "source": [
    "# //// Taille : m -> cm\n",
    "data[\"Taille\"] = data[\"Taille\"] *100\n",
    "\n",
    "# //// Intervalles Age\n",
    "age20 = list(range(20 *365)) # Croissance ~ de 0 à 20 ans\n",
    "age20_40 = list(range((20 *365), (40 *365))) # Stagnation de 0 à 40 ans \n",
    "age40_70 = list(range((40 *365), (70 *365))) # Diminution taille à partir de 40 ans\n",
    "age70plus = list(range((70 *365) , (110 *365)))\n",
    "\n",
    "# //// Separation en groupe selon les intervalles d'age\n",
    "data20 = data[data['age_at_entry'].isin(age20)]\n",
    "data20.to_csv(\"data20.csv\", index=False)\n",
    "data20_40 = data[data['age_at_entry'].isin(age20_40)]\n",
    "data40_70 = data[data['age_at_entry'].isin(age40_70)]\n",
    "data70 = data[data['age_at_entry'].isin(age70plus)]"
   ]
  },
  {
   "cell_type": "markdown",
   "metadata": {},
   "source": [
    "<a id=\"scatter\"></a>"
   ]
  },
  {
   "cell_type": "markdown",
   "metadata": {},
   "source": [
    "## Scatter plots\n",
    "---------------------"
   ]
  },
  {
   "cell_type": "code",
   "execution_count": null,
   "metadata": {},
   "outputs": [],
   "source": [
    "# //// Scatter plots 3x3 de 9 patients choisis aléatoirements\n",
    "sample_ippr = data['IPPR'].sample(n=9)\n",
    "sample_ippr = np.array(sample_ippr)\n",
    "data_sample = data[data[\"IPPR\"].isin(sample_ippr)]\n",
    "\n",
    "def scatter_3by3(df):\n",
    "    fig, ax = plt.subplots(nrows=3, ncols=3, figsize=[10, 10], dpi=200)\n",
    "    for i, axi in enumerate(ax.flat):\n",
    "        ippri = sample_ippr[i]\n",
    "        datai = df[df['IPPR'] == ippri]\n",
    "        xi = datai['age_at_entry'] / 365\n",
    "        yi = datai['Taille']\n",
    "        axi.scatter(xi, yi, c='steelblue')\n",
    "        if (ippri in data20['IPPR'].values):\n",
    "            axi.set_title(\"IPPR:\"+ str(ippri) + \" (<20 ans)\")\n",
    "            axi.set_ylabel(\"Taille (cm)\")\n",
    "            axi.set_xlabel(\"Âge à la saisie\")\n",
    "        else:\n",
    "            axi.set_title(\"IPPR:\"+ str(ippri))\n",
    "            axi.set_ylabel(\"Taille (cm)\")\n",
    "            axi.set_xlabel(\"Âge à la saisie\")\n",
    "        meani = datai['mean'].unique()\n",
    "        stdi = datai['std'].unique()\n",
    "        m_s_lbl = \"mean : \" + str(round(meani[0],3)) + \"\\nstd : \" + str(round(stdi[0],3))\n",
    "        at = AnchoredText(m_s_lbl,\n",
    "                  prop=dict(size=8), frameon=False,\n",
    "                  loc='lower right',\n",
    "                  )\n",
    "        at.patch.set_boxstyle(\"round,pad=0.,rounding_size=0.2\")\n",
    "        axi.add_artist(at)\n",
    "        \n",
    "    plt.suptitle(\"Scatter plot : Taille ~ Âge de saisie \\n de 9 patients tirés aléatoirement\", y=0.99, size=16)\n",
    "    plt.tight_layout(pad=1)\n",
    "    plt.show()\n",
    "\n",
    "print(\"\\nPremier scatter plot\")\n",
    "scatter_3by3(data_sample)\n",
    "print(\"\\nSecond scatter plot\")\n",
    "scatter_3by3(data_sample)\n",
    "print(\"\\nTroisième scatter plot\")\n",
    "scatter_3by3(data_sample)"
   ]
  },
  {
   "cell_type": "markdown",
   "metadata": {},
   "source": [
    "<a id=\"scatter-interpret\"></a>"
   ]
  },
  {
   "cell_type": "markdown",
   "metadata": {},
   "source": [
    "## Interprétation des résultats\n",
    "------------------"
   ]
  },
  {
   "cell_type": "code",
   "execution_count": null,
   "metadata": {},
   "outputs": [],
   "source": [
    "stop = timeit.default_timer()\n",
    "print()\n",
    "print('Time:  ', str(round(stop - start, 4)), 's\\n\\t' + str(round((stop - start) / 60, 4)) + ' m ')"
   ]
  }
 ],
 "metadata": {
  "kernelspec": {
   "display_name": "Python 3 (Spyder)",
   "language": "python3",
   "name": "python3"
  },
  "language_info": {
   "codemirror_mode": {
    "name": "ipython",
    "version": 3
   },
   "file_extension": ".py",
   "mimetype": "text/x-python",
   "name": "python",
   "nbconvert_exporter": "python",
   "pygments_lexer": "ipython3",
   "version": "3.8.5"
  }
 },
 "nbformat": 4,
 "nbformat_minor": 4
}
