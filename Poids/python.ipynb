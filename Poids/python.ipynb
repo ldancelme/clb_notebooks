{
 "cells": [
  {
   "cell_type": "markdown",
   "metadata": {},
   "source": [
    "## Méthode détection outliers (Novembre)"
   ]
  },
  {
   "cell_type": "code",
   "execution_count": 2,
   "metadata": {},
   "outputs": [
    {
     "ename": "FileNotFoundError",
     "evalue": "[Errno 2] File ../../data/clean_poids.csv does not exist: '../../data/clean_poids.csv'",
     "output_type": "error",
     "traceback": [
      "Traceback \u001b[1;36m(most recent call last)\u001b[0m:\n",
      "  File \u001b[0;32m\"<ipython-input-2-dc8c3bde06f3>\"\u001b[0m, line \u001b[0;32m9\u001b[0m, in \u001b[0;35m<module>\u001b[0m\n    data = pd.read_csv('../../data/clean_poids.csv')\n",
      "  File \u001b[0;32m\"C:\\Users\\dancel\\Anaconda3\\lib\\site-packages\\pandas\\io\\parsers.py\"\u001b[0m, line \u001b[0;32m676\u001b[0m, in \u001b[0;35mparser_f\u001b[0m\n    return _read(filepath_or_buffer, kwds)\n",
      "  File \u001b[0;32m\"C:\\Users\\dancel\\Anaconda3\\lib\\site-packages\\pandas\\io\\parsers.py\"\u001b[0m, line \u001b[0;32m448\u001b[0m, in \u001b[0;35m_read\u001b[0m\n    parser = TextFileReader(fp_or_buf, **kwds)\n",
      "  File \u001b[0;32m\"C:\\Users\\dancel\\Anaconda3\\lib\\site-packages\\pandas\\io\\parsers.py\"\u001b[0m, line \u001b[0;32m880\u001b[0m, in \u001b[0;35m__init__\u001b[0m\n    self._make_engine(self.engine)\n",
      "  File \u001b[0;32m\"C:\\Users\\dancel\\Anaconda3\\lib\\site-packages\\pandas\\io\\parsers.py\"\u001b[0m, line \u001b[0;32m1114\u001b[0m, in \u001b[0;35m_make_engine\u001b[0m\n    self._engine = CParserWrapper(self.f, **self.options)\n",
      "  File \u001b[0;32m\"C:\\Users\\dancel\\Anaconda3\\lib\\site-packages\\pandas\\io\\parsers.py\"\u001b[0m, line \u001b[0;32m1891\u001b[0m, in \u001b[0;35m__init__\u001b[0m\n    self._reader = parsers.TextReader(src, **kwds)\n",
      "  File \u001b[0;32m\"pandas\\_libs\\parsers.pyx\"\u001b[0m, line \u001b[0;32m374\u001b[0m, in \u001b[0;35mpandas._libs.parsers.TextReader.__cinit__\u001b[0m\n",
      "\u001b[1;36m  File \u001b[1;32m\"pandas\\_libs\\parsers.pyx\"\u001b[1;36m, line \u001b[1;32m673\u001b[1;36m, in \u001b[1;35mpandas._libs.parsers.TextReader._setup_parser_source\u001b[1;36m\u001b[0m\n",
      "\u001b[1;31mFileNotFoundError\u001b[0m\u001b[1;31m:\u001b[0m [Errno 2] File ../../data/clean_poids.csv does not exist: '../../data/clean_poids.csv'\n"
     ]
    }
   ],
   "source": [
    "import pandas as pd\n",
    "import numpy as np\n",
    "import matplotlib.pyplot as plt\n",
    "import random\n",
    "from tqdm import tqdm\n",
    "import warnings\n",
    "warnings. filterwarnings('ignore')\n",
    "\n",
    "data = pd.read_csv('../../data/clean_poids.csv')\n",
    "data = data[data['age_at_entry'] > 7300]\n",
    "ipprs = data.IPPR.unique()\n",
    "ipprs = np.array(ipprs)\n",
    "\n",
    "systemRandom = random.SystemRandom()\n",
    "rint = systemRandom.randint(1,31481)\n",
    "\n",
    "data = data[data['IPPR'] == ipprs[rint]]\n",
    "# data = data[data['IPPR'] == 9012060]\n",
    "\n",
    "data = data[data['priority_lvl'] == 1]\n",
    "\n",
    "x = np.array(data.age_at_entry)\n",
    "y = np.array(data.Poids)\n",
    "a = np.array(data.age_at_entry)\n",
    "appl = np.array(data.priority_lvl)\n",
    "\n",
    "print(x,y)"
   ]
  },
  {
   "cell_type": "markdown",
   "metadata": {},
   "source": [
    "### Pour obtentir le coeff directeur d'une ligne entre 2 Points $P_1$ et $P_2$"
   ]
  },
  {
   "cell_type": "code",
   "execution_count": null,
   "metadata": {},
   "outputs": [],
   "source": [
    "def slope(x1, y1, x2, y2):\n",
    "    m = (y2-y1)/(x2-x1)\n",
    "    return m\n",
    "\n",
    "ind_6mois = 0.000537\n",
    "ind_1mois = 0.0163\n",
    "sl_list = [] "
   ]
  },
  {
   "cell_type": "markdown",
   "metadata": {},
   "source": [
    "#### Pour obtenir la moyenne des Points sur les $x$ prochains mois"
   ]
  },
  {
   "cell_type": "code",
   "execution_count": null,
   "metadata": {},
   "outputs": [],
   "source": [
    "def mean_x_month(temp, idx, months):\n",
    "    period = months*31\n",
    "    print('Period :', period)\n",
    "    val = {}\n",
    "    di = temp.iloc[idx,1]\n",
    "    print('age_at_entry :', di)\n",
    "    temp = temp.iloc[idx+1:,:]  \n",
    "    list_p = []\n",
    "    \n",
    "    for j in range(len(temp)):\n",
    "        # print('temp.iloc[j,1] :', temp.iloc[j,1])\n",
    "        # print('di :', di)\n",
    "        # print('temp.iloc[j,1] - di :', temp.iloc[j,1] - di)\n",
    "        if temp.iloc[j,1] - di <= period :\n",
    "            val.update({temp.iloc[j,1]:temp.iloc[j,3]})\n",
    "    print(val)\n",
    "    m = np.array(list(val.values())).mean()\n",
    "    d = np.array(list(val.keys())).mean()\n",
    "    p= [d,m]\n",
    "    list_p.append(p)\n",
    "    return p, list_p"
   ]
  },
  {
   "cell_type": "code",
   "execution_count": null,
   "metadata": {},
   "outputs": [],
   "source": [
    "def outlier_detection(ind_mois):\n",
    "        durée_passage= a[0]-a[len(data)-1]\n",
    "         \n",
    "        for i in range(0, len(x)-1):\n",
    "            \n",
    "            print('['+str(i)+']'+' outlier_detection() loop index')\n",
    "            plt.plot(x[i:i+2], y[i:i+2], 'ro-')\n",
    "            sl = slope(x[i], y[i], x[i+1], y[i+1])\n",
    "            sl_list.append(sl)\n",
    "            \n",
    "            p2, list_p2 = mean_x_month(data, i, 6)\n",
    "            print(p2)\n",
    "            plt.plot(p2[0],p2[1],'bx', markersize=10)\n",
    "            # plt.text(p2[0],p2[1]+1,str(i),color='blue',fontsize=15)\n",
    "            print('-'*100)\n",
    "            \n",
    "            prc_Poids = abs(1-(y[i]/y[i+1]))\n",
    "            prc_Poids = abs(1-(np.mean([y[i-2],y[i-1],y[i]])/y[i+1]))\n",
    "            nb_jours = a[i+1]-a[i]\n",
    "    \n",
    "            if prc_Poids > ind_mois*nb_jours:\n",
    "                otl = 'otl'\n",
    "                plt.plot(x[i],y[i],marker='o', markeredgecolor = 'white',markerfacecolor='red')\n",
    "            else:\n",
    "                otl = 'inl'"
   ]
  },
  {
   "cell_type": "markdown",
   "metadata": {},
   "source": [
    "#### Méthode discutée avec Hugo Crochet "
   ]
  },
  {
   "cell_type": "code",
   "execution_count": null,
   "metadata": {},
   "outputs": [],
   "source": [
    "def otl_hugo_crochet(months):\n",
    "    plt.figure(figsize=[7,4], dpi=400)\n",
    "    if months >= 6:\n",
    "        prc = 0.1\n",
    "    else:\n",
    "        prc = 0.05\n",
    "        \n",
    "    for i in range(0, len(x)-1):\n",
    "        \n",
    "        p2, list_p2 = mean_x_month(data, i, months)\n",
    "        print(p2)\n",
    "        plt.plot(p2[0],p2[1],'bx', markersize=5)\n",
    "        \n",
    "        if np.isnan(p2).any() == False:\n",
    "            plt.plot([x[i],p2[0]], [y[i],p2[1]], 'b-', linewidth=0.5)\n",
    "\n",
    "        \n",
    "        print('['+str(i)+'] '+'-'*100)\n",
    "        sl = slope(x[i], y[i], x[i+1], y[i+1])\n",
    "        new_sl = slope(x[i], y[i], p2[0], p2[1])\n",
    "        \n",
    "        print('slope:', abs(sl))\n",
    "        print('new_slope:', abs(new_sl))\n",
    "        \n",
    "        plt.plot(x[i:i+2], y[i:i+2], 'k-', linewidth=0.5)\n",
    "        plt.plot(x[i:i+2], y[i:i+2], 'ro', markersize=4)\n",
    "        \n",
    "                \n",
    "        prc_Poids = abs(1-(y[i]/p2[1]))\n",
    "        print('prc_Poids:', prc_Poids)\n",
    "        if prc_Poids > prc:\n",
    "            otl = 'otl'\n",
    "            print(otl)\n",
    "            plt.text(x[i],y[i]+0.1,'otl')\n",
    "        else:\n",
    "            otl = 'inl'\n",
    "            plt.text(x[i],y[i]+0.2,'inl')   \n",
    "\n",
    "otl_hugo_crochet(3)"
   ]
  },
  {
   "cell_type": "markdown",
   "metadata": {},
   "source": [
    "#### Méthode discutée avec Pascale Roux"
   ]
  },
  {
   "cell_type": "code",
   "execution_count": 1,
   "metadata": {},
   "outputs": [],
   "source": [
    "def otl_pascale_roux(months):\n",
    "    \n",
    "    if months == 6:\n",
    "        prc = 0.1\n",
    "    elif months == 1:\n",
    "        prc = 0.05\n",
    "    \n",
    "    plt.figure(figsize=[13,8])\n",
    "    for i in range(0, len(x)-1):\n",
    "        print('['+str(i)+'] '+'-'*100)\n",
    "\n",
    "        plt.plot(x[i:i+2], y[i:i+2], 'k-', linewidth=0.5)\n",
    "        plt.plot(x[i:i+2], y[i:i+2], 'ro', markersize=4)\n",
    "        \n",
    "        sl = slope(x[i], y[i], x[i+1], y[i+1])\n",
    "        sl_list.append(sl)\n",
    "        \n",
    "        p2, list_p2 = mean_x_month(data, i, months)\n",
    "        print(p2)\n",
    "        plt.plot(p2[0],p2[1],'bx', markersize=5)\n",
    "        \n",
    "        prc_Poids = abs(1-(y[i]/p2[1]))\n",
    "         \n",
    "        if prc_Poids > prc:\n",
    "            otl = 'otl'\n",
    "            plt.text(x[i],y[i]+0.1,'otl')\n",
    "        else:\n",
    "            otl = 'inl'\n",
    "            plt.text(x[i],y[i]+0.2,'inl')\n",
    "\n",
    "# otl_pascale_roux(6)"
   ]
  },
  {
   "cell_type": "code",
   "execution_count": null,
   "metadata": {},
   "outputs": [],
   "source": []
  }
 ],
 "metadata": {
  "kernelspec": {
   "display_name": "Python 3 (Spyder)",
   "language": "python3",
   "name": "python3"
  },
  "language_info": {
   "codemirror_mode": {
    "name": "ipython",
    "version": 3
   },
   "file_extension": ".py",
   "mimetype": "text/x-python",
   "name": "python",
   "nbconvert_exporter": "python",
   "pygments_lexer": "ipython3",
   "version": "3.7.6"
  }
 },
 "nbformat": 4,
 "nbformat_minor": 4
}
